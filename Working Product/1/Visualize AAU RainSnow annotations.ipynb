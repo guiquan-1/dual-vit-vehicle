{
 "cells": [
  {
   "cell_type": "code",
   "execution_count": 2,
   "metadata": {
    "scrolled": true
   },
   "outputs": [
    {
     "name": "stdout",
     "output_type": "stream",
     "text": [
      "loading annotations into memory...\n",
      "Done (t=0.07s)\n",
      "creating index...\n",
      "index created!\n",
      "loading annotations into memory...\n",
      "Done (t=0.23s)\n",
      "creating index...\n",
      "index created!\n"
     ]
    }
   ],
   "source": [
    "from pycocotools import coco\n",
    "import numpy as np\n",
    "import skimage.io as io\n",
    "import matplotlib\n",
    "import matplotlib.pyplot as plt \n",
    "import pylab\n",
    "import random\n",
    "import cv2\n",
    "pylab.rcParams['figure.figsize'] = (8.0, 6.0)\n",
    "\n",
    "rgbAnnFile='./aauRainSnow-rgb.json'\n",
    "thermalAnnFile = './aauRainSnow-thermal.json'\n",
    "\n",
    "rainSnowRgbGt = coco.COCO(rgbAnnFile)\n",
    "rainSnowThermalGt = coco.COCO(thermalAnnFile)"
   ]
  },
  {
   "cell_type": "markdown",
   "metadata": {},
   "source": [
    "## Display a random image with overlayed annotations in both the RGB and thermal domain \n"
   ]
  },
  {
   "cell_type": "code",
   "execution_count": null,
   "metadata": {},
   "outputs": [],
   "source": [
    "import os\n",
    "import matplotlib.pyplot as plt\n",
    "from skimage import io\n",
    "import matplotlib\n",
    "\n",
    "# Ensure the target directories exist\n",
    "output_dir = \"Samples\"\n",
    "if not os.path.exists(output_dir):\n",
    "    os.makedirs(output_dir)\n",
    "\n",
    "for i in range(0, 2197):\n",
    "    chosenImgId = i\n",
    "    annIds = rainSnowRgbGt.getAnnIds(imgIds=[chosenImgId])\n",
    "    anns = rainSnowRgbGt.loadAnns(annIds)\n",
    "\n",
    "    rgbImg = rainSnowRgbGt.loadImgs([chosenImgId])[0]\n",
    "    thermalImg = rainSnowThermalGt.loadImgs([chosenImgId])[0]\n",
    "    thermalAnns = rainSnowThermalGt.loadAnns(annIds)\n",
    "\n",
    "    print('Found ' + str(len(anns)) + ' annotations at image ID ' + str(chosenImgId) + '. Image file: ' + rgbImg['file_name'])\n",
    "\n",
    "    for ann in anns:\n",
    "        print('Annotation #' + str(ann['id']) + ': ' + rainSnowRgbGt.loadCats(ann['category_id'])[0]['name'])\n",
    "\n",
    "    matplotlib.rcParams['interactive'] == False\n",
    "    print(\"\\nRGB Image\")\n",
    "    I = io.imread('./' + rgbImg['file_name'])\n",
    "    plt.gcf().clear()\n",
    "    plt.axis('off')\n",
    "    plt.imshow(I)\n",
    "    rainSnowRgbGt.showAnns(anns)\n",
    "    plt.show()\n",
    "\n",
    "    # Save the RGB image\n",
    "    rgb_output_path = os.path.join(output_dir, \"rgb-\" + str(chosenImgId).zfill(5) + \".png\")\n",
    "    plt.savefig(rgb_output_path)\n",
    "    print(f\"Saved RGB image to {rgb_output_path}\")\n",
    "\n",
    "    print(\"\\nThermal Image\")\n",
    "    # Load thermal annotations\n",
    "    I = io.imread('./' + thermalImg['file_name'])\n",
    "    plt.gcf().clear()\n",
    "    plt.axis('off')\n",
    "    plt.imshow(I)\n",
    "    rainSnowThermalGt.showAnns(thermalAnns)\n",
    "    plt.show()\n",
    "\n",
    "    # Save the thermal image\n",
    "    thermal_output_path = os.path.join(output_dir, \"thermal-\" + str(chosenImgId).zfill(5) + \".png\")\n",
    "    plt.savefig(thermal_output_path)\n",
    "    print(f\"Saved Thermal image to {thermal_output_path}\")\n"
   ]
  },
  {
   "cell_type": "markdown",
   "metadata": {
    "collapsed": true
   },
   "source": [
    "## Register an annotation in RGB to the thermal domain"
   ]
  },
  {
   "cell_type": "code",
   "execution_count": 4,
   "metadata": {},
   "outputs": [
    {
     "name": "stdout",
     "output_type": "stream",
     "text": [
      "Reading calibration file at: Egensevej\\Egensevej-2-calib.yml\n",
      "RGB coordinates for annotation ID 588:\n",
      "[[412 155]\n",
      " [411 156]\n",
      " [411 162]\n",
      " [412 163]\n",
      " [419 163]\n",
      " [420 162]\n",
      " [420 157]\n",
      " [419 156]\n",
      " [417 156]\n",
      " [416 155]]\n",
      "Thermal coordinates:\n",
      "[[430.22998 128.2242 ]]\n"
     ]
    }
   ],
   "source": [
    "import aauRainSnowUtility\n",
    "\n",
    "chosenImgId = random.randint(0, 2197)\n",
    "annIds = rainSnowRgbGt.getAnnIds(imgIds=[chosenImgId])\n",
    "anns = rainSnowRgbGt.loadAnns(annIds)\n",
    "rgbImg = rainSnowRgbGt.loadImgs([chosenImgId])[0]\n",
    "\n",
    "\n",
    "if len(anns) > 0:\n",
    "    chosenAnnId = random.randint(0, len(anns)-1)\n",
    "    rgbAnn = anns[chosenAnnId]\n",
    "    \n",
    "    thermalSegmentation = []\n",
    "    for segmentation in rgbAnn['segmentation']:\n",
    "        thermalCoords = aauRainSnowUtility.registerRgbPointsToThermal(segmentation, rgbImg['file_name'])\n",
    "        \n",
    "        \n",
    "        thermalSegmentation.append(thermalCoords)\n",
    "        \n",
    "        print('RGB coordinates for annotation ID ' + str(rgbAnn['id']) +':\\n' + str(np.reshape(segmentation, (-1, 2))))\n",
    "        print('Thermal coordinates:\\n' + str(thermalCoords.reshape([-1, 2])))    \n",
    "    \n",
    "else:\n",
    "    print(\"No annotations found for image ID \" + str(chosenImgId) + \", try again\")\n",
    "\n"
   ]
  },
  {
   "cell_type": "markdown",
   "metadata": {},
   "source": [
    "## Register an annotation in thermal to the RGB domain"
   ]
  },
  {
   "cell_type": "code",
   "execution_count": 6,
   "metadata": {},
   "outputs": [
    {
     "name": "stdout",
     "output_type": "stream",
     "text": [
      "Reading calibration file at: Egensevej\\Egensevej-4-calib.yml\n",
      "Thermal coordinates for annotation ID 1196:\n",
      "[[421.58728027 160.44464111]\n",
      " [420.56378174 161.49856567]\n",
      " [420.79312134 173.48254395]\n",
      " [421.85726929 174.60447693]\n",
      " [433.30441284 174.96685791]\n",
      " [434.32272339 173.91386414]\n",
      " [434.10543823 161.96305847]\n",
      " [433.04650879 160.8401947 ]]\n",
      "RGB coordinates:\n",
      "[[403. 185.]]\n"
     ]
    }
   ],
   "source": [
    "import aauRainSnowUtility\n",
    "\n",
    "chosenImgId = random.randint(0, 2197)\n",
    "annIds = rainSnowThermalGt.getAnnIds(imgIds=[chosenImgId])\n",
    "anns = rainSnowThermalGt.loadAnns(annIds)\n",
    "thermalImg = rainSnowThermalGt.loadImgs([chosenImgId])[0]\n",
    "\n",
    "\n",
    "if len(anns) > 0:\n",
    "    chosenAnnId = random.randint(0, len(anns)-1)\n",
    "    thermalAnn = anns[chosenAnnId]\n",
    "    \n",
    "    rgbSegmentation = []\n",
    "    for segmentation in thermalAnn['segmentation']:\n",
    "        rgbCoords = aauRainSnowUtility.registerThermalPointsToRgb(segmentation, thermalImg['file_name'])\n",
    "        \n",
    "        \n",
    "        rgbSegmentation.append(rgbCoords)\n",
    "        \n",
    "        print('Thermal coordinates for annotation ID ' + str(thermalAnn['id']) +':\\n' + str(np.reshape(segmentation, (-1, 2))))\n",
    "        print('RGB coordinates:\\n' + str(rgbCoords.reshape([-1, 2])))    \n",
    "    \n",
    "else:\n",
    "    print(\"No annotations found for image ID \" + str(chosenImgId) + \", try again\")"
   ]
  }
 ],
 "metadata": {
  "kernelspec": {
   "display_name": "Python 3",
   "language": "python",
   "name": "python3"
  },
  "language_info": {
   "codemirror_mode": {
    "name": "ipython",
    "version": 3
   },
   "file_extension": ".py",
   "mimetype": "text/x-python",
   "name": "python",
   "nbconvert_exporter": "python",
   "pygments_lexer": "ipython3",
   "version": "3.12.3"
  }
 },
 "nbformat": 4,
 "nbformat_minor": 2
}
